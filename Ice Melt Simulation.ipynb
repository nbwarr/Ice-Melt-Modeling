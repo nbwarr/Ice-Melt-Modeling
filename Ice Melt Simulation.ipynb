{
 "cells": [
  {
   "cell_type": "code",
   "execution_count": 4,
   "id": "27821aa9",
   "metadata": {},
   "outputs": [],
   "source": [
    "# Text file reading\n",
    "\n",
    "# Opening the file to read the text and record the differences in each measurement by year\n",
    "def getData(fileName):\n",
    "    file = fileName\n",
    "    dataDict = {}\n",
    "    with open(file, 'r') as f:\n",
    "        previousYear = \"2002\"\n",
    "        dataDict[\"2002\"] = []\n",
    "        for line in f:\n",
    "            currentYear = line[0:4]\n",
    "            if previousYear != currentYear:\n",
    "                dataDict[currentYear] = []\n",
    "            dataDict[currentYear].append(round(float(line[7:20].strip()), 3))\n",
    "            previousYear = currentYear\n",
    "        f.close()\n",
    "    return dataDict\n",
    "\n",
    "# Gets the difference between each data point\n",
    "# def getDataTest(fileName):\n",
    "#     file = fileName\n",
    "#     dataDict = {}\n",
    "#     with open(file, 'r') as f:\n",
    "#         previousYear = \"2002\"\n",
    "#         dataDict[\"2002\"] = []\n",
    "#         lastMeasurement = 0.0\n",
    "#         for line in f:\n",
    "#             currentYear = line[0:4]\n",
    "#             if previousYear != currentYear:\n",
    "#                 dataDict[currentYear] = []\n",
    "#             difference = float(line[7:20].strip()) - lastMeasurement\n",
    "#             dataDict[currentYear].append(round(difference, 3))\n",
    "#             previousYear = currentYear\n",
    "#             lastMeasurement = float(line[7:20].strip())\n",
    "#         f.close()\n",
    "#     return dataDict"
   ]
  },
  {
   "cell_type": "code",
   "execution_count": 5,
   "id": "77ea0791",
   "metadata": {},
   "outputs": [
    {
     "name": "stdout",
     "output_type": "stream",
     "text": [
      "Antarctica data dictionary: \n",
      "{'2002': [0.0, 18.5, -60.48, 44.62, 61.76, -69.33, -47.09], '2003': [-47.43, -198.6, -168.52, -40.58, 3.09, -126.9, -121.66, -130.16, -48.04, -107.47, -272.9], '2004': [-329.57, -488.1, -336.35, -383.52, -153.76, -185.65, -311.37, -165.76, -160.88, -86.0, -225.97, -304.77], '2005': [-390.45, -453.82, -404.22, -249.85, -227.22, -202.61, -158.28, -208.6, -112.12, -106.26, -60.94, -159.25], '2006': [-222.9, -316.37, -181.52, -156.99, -76.69, -48.79, -98.6, -12.83, -21.68, -95.71, -88.05, -232.82], '2007': [-436.18, -426.71, -358.96, -334.64, -179.49, -190.34, -268.78, -232.18, -159.44, -246.51, -438.33, -520.22], '2008': [-726.89, -605.3, -737.93, -561.87, -471.68, -555.45, -650.26, -602.77, -445.65, -533.6, -519.85, -624.13], '2009': [-704.53, -678.9, -615.39, -579.85, -553.7, -539.4, -438.18, -470.26, -482.74, -536.84, -523.89, -632.27], '2010': [-800.71, -807.22, -689.17, -759.37, -781.33, -793.71, -996.72, -926.99, -847.4, -880.5, -900.64, -913.59], '2011': [-1001.78, -1017.37, -1029.65, -963.27, -914.12, -929.6, -841.24, -886.89, -881.52], '2012': [-1148.87, -1077.27, -1141.04, -1119.61, -1058.97, -1094.72, -1062.75, -984.28, -951.45, -1073.6, -1118.57], '2013': [-1288.4, -1394.93, -1139.17, -1240.37, -1249.16, -1213.64, -1303.96, -1350.44, -1401.64], '2014': [-1510.71, -1618.63, -1536.57, -1444.02, -1488.69, -1539.08, -1367.07, -1454.62, -1530.54], '2015': [-1833.18, -1908.93, -1873.69, -1852.61, -1781.63, -1752.41, -1901.59, -1852.88, -1898.05], '2016': [-1920.04, -1994.77, -1930.96, -1798.92, -1779.49, -1663.64, -1616.79, -1682.12, -1595.14], '2017': [-1618.06, -1947.58, -1864.79, -1827.44, -1834.85], '2018': [-2011.29, -2038.65, -2181.75, -2139.33, -2278.93], '2019': [-2396.49, -2456.18, -2402.51, -2369.12, -2209.54, -2265.6, -2128.46, -2290.19, -2333.01, -2315.12, -2324.3, -2431.05], '2020': [-2675.41, -2777.95, -2699.03, -2576.32, -2453.85, -2396.04, -2446.53, -2408.31, -2469.8, -2532.65, -2600.9, -2647.8], '2021': [-2860.19, -2648.34, -2675.62, -2459.77, -2488.0, -2661.39, -2672.21, -2611.67, -2699.11, -2500.67, -2738.71, -2643.95], '2022': [-2736.97, -2695.79, -2619.82, -2381.01, -2285.63, -2306.92, -2415.71, -2369.81, -2353.78, -2408.9, -2340.82, -2341.0], '2023': [-2409.59, -2460.45, -2362.12, -2151.29, -2297.35, -2298.12]}\n",
      "\n",
      "Greenland data dictionary: \n",
      "{'2002': [0.0, 67.31, -220.59, -243.74, -210.68, -209.47, -194.4], '2003': [-149.78, -158.79, -95.64, -49.67, -42.48, -217.78, -353.42, -394.84, -393.26, -394.1, -354.94], '2004': [-378.61, -386.67, -364.68, -301.09, -319.71, -338.78, -435.82, -559.61, -599.33, -618.64, -577.82, -553.31], '2005': [-566.94, -544.93, -499.8, -491.59, -457.4, -504.06, -631.52, -820.41, -886.23, -878.47, -874.67, -825.41], '2006': [-848.87, -800.98, -780.99, -804.6, -793.0, -806.39, -893.08, -1019.81, -1081.68, -1067.18, -1093.19, -1102.33], '2007': [-1070.67, -1029.07, -1037.97, -1025.56, -1013.26, -1032.43, -1162.38, -1358.47, -1421.13, -1448.13, -1423.26, -1365.1], '2008': [-1326.1, -1344.55, -1290.53, -1308.32, -1323.52, -1328.15, -1474.7, -1633.98, -1697.09, -1687.37, -1613.58, -1541.77], '2009': [-1522.86, -1568.03, -1567.46, -1547.33, -1530.18, -1538.64, -1647.77, -1856.35, -1909.93, -1886.63, -1867.0, -1842.69], '2010': [-1846.48, -1828.12, -1816.47, -1840.21, -1807.32, -1914.49, -2088.82, -2281.93, -2381.12, -2343.45, -2362.25, -2344.88], '2011': [-2324.14, -2308.79, -2305.08, -2324.38, -2515.16, -2706.85, -2765.58, -2787.5, -2787.87], '2012': [-2727.07, -2737.67, -2720.25, -2674.77, -2664.28, -2692.74, -2923.22, -3231.04, -3331.98, -3267.29, -3253.83], '2013': [-3250.07, -3242.54, -3239.42, -3203.72, -3185.4, -3297.34, -3362.14, -3360.84, -3349.36], '2014': [-3334.0, -3282.36, -3270.57, -3269.19, -3308.8, -3592.51, -3629.28, -3613.79, -3609.46], '2015': [-3525.0, -3531.39, -3486.1, -3477.01, -3472.86, -3660.25, -3793.01, -3832.7, -3774.33], '2016': [-3719.56, -3741.65, -3741.63, -3709.48, -3705.45, -3878.63, -4130.64, -4005.09, -4070.45], '2017': [-4021.95, -4015.31, -3977.07, -3968.81, -4001.1], '2018': [-4042.46, -4071.27, -4260.77, -4226.3, -4201.97], '2019': [-4206.63, -4242.06, -4256.46, -4240.45, -4196.34, -4270.6, -4462.53, -4708.03, -4815.07, -4807.56, -4737.82, -4736.3], '2020': [-4794.18, -4785.89, -4787.76, -4756.48, -4731.35, -4770.0, -4903.05, -4999.58, -5015.04, -4948.91, -4936.85, -4942.51], '2021': [-4915.52, -4941.48, -4922.4, -4883.15, -4930.09, -4917.88, -4961.73, -5110.53, -5160.19, -5203.38, -5198.53, -5156.35], '2022': [-5127.09, -5115.45, -5086.03, -5099.45, -5091.58, -5075.09, -5178.49, -5293.44, -5340.8, -5329.3, -5250.97, -5205.19], '2023': [-5304.74, -5306.68, -5252.4, -5267.72, -5246.85, -5218.44]}\n"
     ]
    }
   ],
   "source": [
    "antarcticaDict = getData(\"AntarcticaMeltData.txt\")\n",
    "print(\"Antarctica data dictionary: \\n\" + str(antarcticaDict))\n",
    "greenlandDict = getData(\"GreenlandMeltData.txt\")\n",
    "print(\"\\nGreenland data dictionary: \\n\" + str(greenlandDict))"
   ]
  },
  {
   "cell_type": "code",
   "execution_count": 6,
   "id": "5ced06e8",
   "metadata": {},
   "outputs": [],
   "source": [
    "def getSlopeEstimates(dataList):\n",
    "    slopeEstimates = []\n",
    "    previous = 0.0\n",
    "    count = 1\n",
    "    for num in dataList:\n",
    "        slopeEstimates.append(round((num - previous), 3))\n",
    "        count += 1\n",
    "        previous = num\n",
    "    return slopeEstimates"
   ]
  },
  {
   "cell_type": "code",
   "execution_count": 7,
   "id": "4e3f9a41",
   "metadata": {},
   "outputs": [],
   "source": [
    "# Returns the average ice melt for the given year\n",
    "# def getAverage(dataList):\n",
    "#     total = 0\n",
    "#     numCount = 0\n",
    "#     for num in dataList:\n",
    "#         total += num\n",
    "#         numCount += 1\n",
    "#     return total / numCount"
   ]
  },
  {
   "cell_type": "code",
   "execution_count": 8,
   "id": "68a5c682",
   "metadata": {},
   "outputs": [],
   "source": [
    "# Returns the average yearly ice melt from 2002 to 2023\n",
    "def averageSlope(dictionary):\n",
    "    total = 0\n",
    "    estimateCount = 0\n",
    "    for year in dictionary.keys():\n",
    "        for estimate in getSlopeEstimates(dictionary[year]):\n",
    "            total += estimate\n",
    "            estimateCount += 1\n",
    "        print(year + \": \" + str(getSlopeEstimates(dictionary[year])))\n",
    "    return total / estimateCount\n",
    "\n",
    "# def totalAverageTest(dictionary):\n",
    "#     total = 0\n",
    "#     yearCount = 0\n",
    "#     for year in dictionary.keys():\n",
    "#         total += getAverage(dictionary[year])\n",
    "#         yearCount += 1\n",
    "#         print(year + \": \" + str(round(getAverage(dictionary[year]), 3)))\n",
    "#     return total / yearCount"
   ]
  },
  {
   "cell_type": "code",
   "execution_count": 9,
   "id": "9af71819",
   "metadata": {},
   "outputs": [
    {
     "name": "stdout",
     "output_type": "stream",
     "text": [
      "2002: [0.0, 18.5, -78.98, 105.1, 17.14, -131.09, 22.24]\n",
      "2003: [-47.43, -151.17, 30.08, 127.94, 43.67, -129.99, 5.24, -8.5, 82.12, -59.43, -165.43]\n",
      "2004: [-329.57, -158.53, 151.75, -47.17, 229.76, -31.89, -125.72, 145.61, 4.88, 74.88, -139.97, -78.8]\n",
      "2005: [-390.45, -63.37, 49.6, 154.37, 22.63, 24.61, 44.33, -50.32, 96.48, 5.86, 45.32, -98.31]\n",
      "2006: [-222.9, -93.47, 134.85, 24.53, 80.3, 27.9, -49.81, 85.77, -8.85, -74.03, 7.66, -144.77]\n",
      "2007: [-436.18, 9.47, 67.75, 24.32, 155.15, -10.85, -78.44, 36.6, 72.74, -87.07, -191.82, -81.89]\n",
      "2008: [-726.89, 121.59, -132.63, 176.06, 90.19, -83.77, -94.81, 47.49, 157.12, -87.95, 13.75, -104.28]\n",
      "2009: [-704.53, 25.63, 63.51, 35.54, 26.15, 14.3, 101.22, -32.08, -12.48, -54.1, 12.95, -108.38]\n",
      "2010: [-800.71, -6.51, 118.05, -70.2, -21.96, -12.38, -203.01, 69.73, 79.59, -33.1, -20.14, -12.95]\n",
      "2011: [-1001.78, -15.59, -12.28, 66.38, 49.15, -15.48, 88.36, -45.65, 5.37]\n",
      "2012: [-1148.87, 71.6, -63.77, 21.43, 60.64, -35.75, 31.97, 78.47, 32.83, -122.15, -44.97]\n",
      "2013: [-1288.4, -106.53, 255.76, -101.2, -8.79, 35.52, -90.32, -46.48, -51.2]\n",
      "2014: [-1510.71, -107.92, 82.06, 92.55, -44.67, -50.39, 172.01, -87.55, -75.92]\n",
      "2015: [-1833.18, -75.75, 35.24, 21.08, 70.98, 29.22, -149.18, 48.71, -45.17]\n",
      "2016: [-1920.04, -74.73, 63.81, 132.04, 19.43, 115.85, 46.85, -65.33, 86.98]\n",
      "2017: [-1618.06, -329.52, 82.79, 37.35, -7.41]\n",
      "2018: [-2011.29, -27.36, -143.1, 42.42, -139.6]\n",
      "2019: [-2396.49, -59.69, 53.67, 33.39, 159.58, -56.06, 137.14, -161.73, -42.82, 17.89, -9.18, -106.75]\n",
      "2020: [-2675.41, -102.54, 78.92, 122.71, 122.47, 57.81, -50.49, 38.22, -61.49, -62.85, -68.25, -46.9]\n",
      "2021: [-2860.19, 211.85, -27.28, 215.85, -28.23, -173.39, -10.82, 60.54, -87.44, 198.44, -238.04, 94.76]\n",
      "2022: [-2736.97, 41.18, 75.97, 238.81, 95.38, -21.29, -108.79, 45.9, 16.03, -55.12, 68.08, -0.18]\n",
      "2023: [-2409.59, -50.86, 98.33, 210.83, -146.06, -0.77]\n",
      "Average Antarctica melt: -128.866\n",
      "2002: [0.0, 67.31, -287.9, -23.15, 33.06, 1.21, 15.07]\n",
      "2003: [-149.78, -9.01, 63.15, 45.97, 7.19, -175.3, -135.64, -41.42, 1.58, -0.84, 39.16]\n",
      "2004: [-378.61, -8.06, 21.99, 63.59, -18.62, -19.07, -97.04, -123.79, -39.72, -19.31, 40.82, 24.51]\n",
      "2005: [-566.94, 22.01, 45.13, 8.21, 34.19, -46.66, -127.46, -188.89, -65.82, 7.76, 3.8, 49.26]\n",
      "2006: [-848.87, 47.89, 19.99, -23.61, 11.6, -13.39, -86.69, -126.73, -61.87, 14.5, -26.01, -9.14]\n",
      "2007: [-1070.67, 41.6, -8.9, 12.41, 12.3, -19.17, -129.95, -196.09, -62.66, -27.0, 24.87, 58.16]\n",
      "2008: [-1326.1, -18.45, 54.02, -17.79, -15.2, -4.63, -146.55, -159.28, -63.11, 9.72, 73.79, 71.81]\n",
      "2009: [-1522.86, -45.17, 0.57, 20.13, 17.15, -8.46, -109.13, -208.58, -53.58, 23.3, 19.63, 24.31]\n",
      "2010: [-1846.48, 18.36, 11.65, -23.74, 32.89, -107.17, -174.33, -193.11, -99.19, 37.67, -18.8, 17.37]\n",
      "2011: [-2324.14, 15.35, 3.71, -19.3, -190.78, -191.69, -58.73, -21.92, -0.37]\n",
      "2012: [-2727.07, -10.6, 17.42, 45.48, 10.49, -28.46, -230.48, -307.82, -100.94, 64.69, 13.46]\n",
      "2013: [-3250.07, 7.53, 3.12, 35.7, 18.32, -111.94, -64.8, 1.3, 11.48]\n",
      "2014: [-3334.0, 51.64, 11.79, 1.38, -39.61, -283.71, -36.77, 15.49, 4.33]\n",
      "2015: [-3525.0, -6.39, 45.29, 9.09, 4.15, -187.39, -132.76, -39.69, 58.37]\n",
      "2016: [-3719.56, -22.09, 0.02, 32.15, 4.03, -173.18, -252.01, 125.55, -65.36]\n",
      "2017: [-4021.95, 6.64, 38.24, 8.26, -32.29]\n",
      "2018: [-4042.46, -28.81, -189.5, 34.47, 24.33]\n",
      "2019: [-4206.63, -35.43, -14.4, 16.01, 44.11, -74.26, -191.93, -245.5, -107.04, 7.51, 69.74, 1.52]\n",
      "2020: [-4794.18, 8.29, -1.87, 31.28, 25.13, -38.65, -133.05, -96.53, -15.46, 66.13, 12.06, -5.66]\n",
      "2021: [-4915.52, -25.96, 19.08, 39.25, -46.94, 12.21, -43.85, -148.8, -49.66, -43.19, 4.85, 42.18]\n",
      "2022: [-5127.09, 11.64, 29.42, -13.42, 7.87, 16.49, -103.4, -114.95, -47.36, 11.5, 78.33, 45.78]\n",
      "2023: [-5304.74, -1.94, 54.28, -15.32, 20.87, 28.41]\n",
      "Average Greenland melt: -290.234\n"
     ]
    }
   ],
   "source": [
    "averageAntarcticaMelt = averageSlope(antarcticaDict)\n",
    "print(\"Average Antarctica melt: \" + str(round(averageAntarcticaMelt, 3)))\n",
    "\n",
    "averageGreenlandMelt = averageSlope(greenlandDict)\n",
    "print(\"Average Greenland melt: \" + str(round(averageGreenlandMelt, 3)))\n",
    "\n",
    "#averageAntarcticaMelt = totalAverage(antarcticaDict)\n",
    "#print(\"Average Antarctica melt: \" + str(round(averageAntarcticaMelt, 3)))\n",
    "\n",
    "#averageGreenlandMelt = totalAverage(greenlandDict)\n",
    "#print(\"Average Greenland melt: \" + str(round(averageGreenlandMelt, 3)))"
   ]
  },
  {
   "cell_type": "code",
   "execution_count": 10,
   "id": "9c1e119e",
   "metadata": {},
   "outputs": [
    {
     "name": "stdout",
     "output_type": "stream",
     "text": [
      "361.8 km^3 of water is needed to raise the sea level by 1 mm\n"
     ]
    }
   ],
   "source": [
    "# Volume of water required to raise the sea level by 1 mm\n",
    "oceanArea = 3.618*10**8 # km^2\n",
    "height = 10**-6 # km --> 1 mm\n",
    "volumeNeeded = oceanArea * height\n",
    "print(str(round(volumeNeeded, 3)) + \" km^3 of water is needed to raise the sea level by 1 mm\")"
   ]
  },
  {
   "cell_type": "markdown",
   "id": "2ab8868a",
   "metadata": {},
   "source": [
    "Water and ice have different densities so they take up different volumes but have the same mass\n",
    "1 gigatonne of water is equal to 1 gigatonne of ice. So to figure out how much ice is required to raise the sea level by 1 mm, we need to convert 361.8 gigatonnes of ice to km^3 of ice.\n",
    "We know that 1 Gt of ice is equal to 1.091 km^3 of ice."
   ]
  },
  {
   "cell_type": "code",
   "execution_count": 11,
   "id": "7acd862f",
   "metadata": {},
   "outputs": [
    {
     "name": "stdout",
     "output_type": "stream",
     "text": [
      "394.724 km^3 of ice is required to raise the sea level by 1 mm\n"
     ]
    }
   ],
   "source": [
    "requiredIceGt = 361.8\n",
    "iceVolume = 1.091 * requiredIceGt\n",
    "print(str(round(iceVolume, 3)) + \" km^3 of ice is required to raise the sea level by 1 mm\")"
   ]
  },
  {
   "cell_type": "code",
   "execution_count": 18,
   "id": "5052407c",
   "metadata": {},
   "outputs": [
    {
     "name": "stdout",
     "output_type": "stream",
     "text": [
      "1.158 mm is the sea level equivalent of 419.1 Gt of ice.\n",
      "115.837 mm would be the increased sea level due  to melting ice in Antarctica and Greenland if ice continues melting at \n",
      "the current rate\n",
      "347.511 would be the estimated total sea level rise since Antarctica and Greenland make up for about one third of sea rise\n"
     ]
    }
   ],
   "source": [
    "# Calculate the sea level equivalent of some amount of ice\n",
    "antarcticMeltPerYear = abs(averageAntarcticaMelt) # Billion metric tonnes\n",
    "greenlandMeltPerYear = abs(averageGreenlandMelt) # Billion metric tonnes\n",
    "iceMass = antarcticMeltPerYear + greenlandMeltPerYear # Gt or B metric tonnes (Example for now)\n",
    "seaLevelEquivalent = iceMass * (1/requiredIceGt)\n",
    "print(str(round(seaLevelEquivalent, 3)) + \" mm is the sea level equivalent of \" + \n",
    "      str(round(iceMass, 3)) + \" Gt of ice.\")\n",
    "\n",
    "# Calculate the sea level equivalent after 100 years\n",
    "hundredYearSeaRise = seaLevelEquivalent * 100\n",
    "print(str(round(hundredYearSeaRise, 3)) + \" mm would be the increased sea level due \" +\n",
    "      \" to melting ice in Antarctica and Greenland if ice continues melting at \\nthe current rate\")\n",
    "print(str(115.837 * 3) + \" would be the estimated total sea level rise since Antarctica and Greenland\"\n",
    "+ \" make up for about one third of sea rise\")"
   ]
  },
  {
   "cell_type": "code",
   "execution_count": 13,
   "id": "990f9fca",
   "metadata": {},
   "outputs": [
    {
     "name": "stdout",
     "output_type": "stream",
     "text": [
      "0.0\n",
      "11.584\n",
      "23.167\n",
      "34.751\n",
      "46.335\n",
      "57.919\n",
      "69.502\n",
      "81.086\n",
      "92.67\n",
      "104.254\n",
      "115.837\n"
     ]
    }
   ],
   "source": [
    "yearList = [0, 10, 20, 30, 40, 50, 60, 70, 80, 90, 100]\n",
    "count = 0\n",
    "for y in yearList:\n",
    "    print(str(round(seaLevelEquivalent * yearList[count], 3)))\n",
    "    count += 1"
   ]
  },
  {
   "cell_type": "code",
   "execution_count": 14,
   "id": "47d86ac7",
   "metadata": {},
   "outputs": [
    {
     "ename": "AttributeError",
     "evalue": "'list' object has no attribute 'keys'",
     "output_type": "error",
     "traceback": [
      "\u001b[0;31m---------------------------------------------------------------------------\u001b[0m",
      "\u001b[0;31mAttributeError\u001b[0m                            Traceback (most recent call last)",
      "\u001b[0;32m/var/folders/ss/xr5bzh9x3fx5661ffb2lc6ch0000gn/T/ipykernel_13428/3937058864.py\u001b[0m in \u001b[0;36m<module>\u001b[0;34m\u001b[0m\n\u001b[1;32m      7\u001b[0m \u001b[0mcount\u001b[0m \u001b[0;34m=\u001b[0m \u001b[0;36m0\u001b[0m\u001b[0;34m\u001b[0m\u001b[0;34m\u001b[0m\u001b[0m\n\u001b[1;32m      8\u001b[0m \u001b[0;32mfor\u001b[0m \u001b[0myear\u001b[0m \u001b[0;32min\u001b[0m \u001b[0;34m(\u001b[0m\u001b[0;34m\"2002\"\u001b[0m\u001b[0;34m,\u001b[0m \u001b[0;34m\"2003\"\u001b[0m\u001b[0;34m,\u001b[0m \u001b[0;34m\"2004\"\u001b[0m\u001b[0;34m,\u001b[0m \u001b[0;34m\"2005\"\u001b[0m\u001b[0;34m,\u001b[0m \u001b[0;34m\"2006\"\u001b[0m\u001b[0;34m,\u001b[0m \u001b[0;34m\"2007\"\u001b[0m\u001b[0;34m,\u001b[0m \u001b[0;34m\"2008\"\u001b[0m\u001b[0;34m,\u001b[0m \u001b[0;34m\"2009\"\u001b[0m\u001b[0;34m,\u001b[0m \u001b[0;34m\"2010\"\u001b[0m\u001b[0;34m)\u001b[0m\u001b[0;34m:\u001b[0m\u001b[0;34m\u001b[0m\u001b[0;34m\u001b[0m\u001b[0m\n\u001b[0;32m----> 9\u001b[0;31m     \u001b[0mtotal\u001b[0m \u001b[0;34m+=\u001b[0m \u001b[0mround\u001b[0m\u001b[0;34m(\u001b[0m\u001b[0maverageSlope\u001b[0m\u001b[0;34m(\u001b[0m\u001b[0mantarcticaDict\u001b[0m\u001b[0;34m[\u001b[0m\u001b[0myear\u001b[0m\u001b[0;34m]\u001b[0m\u001b[0;34m)\u001b[0m\u001b[0;34m,\u001b[0m \u001b[0;36m3\u001b[0m\u001b[0;34m)\u001b[0m\u001b[0;34m\u001b[0m\u001b[0;34m\u001b[0m\u001b[0m\n\u001b[0m\u001b[1;32m     10\u001b[0m     \u001b[0mcount\u001b[0m \u001b[0;34m+=\u001b[0m \u001b[0;36m1\u001b[0m\u001b[0;34m\u001b[0m\u001b[0;34m\u001b[0m\u001b[0m\n\u001b[1;32m     11\u001b[0m \u001b[0;34m\u001b[0m\u001b[0m\n",
      "\u001b[0;32m/var/folders/ss/xr5bzh9x3fx5661ffb2lc6ch0000gn/T/ipykernel_13428/55220054.py\u001b[0m in \u001b[0;36maverageSlope\u001b[0;34m(dictionary)\u001b[0m\n\u001b[1;32m      3\u001b[0m     \u001b[0mtotal\u001b[0m \u001b[0;34m=\u001b[0m \u001b[0;36m0\u001b[0m\u001b[0;34m\u001b[0m\u001b[0;34m\u001b[0m\u001b[0m\n\u001b[1;32m      4\u001b[0m     \u001b[0mestimateCount\u001b[0m \u001b[0;34m=\u001b[0m \u001b[0;36m0\u001b[0m\u001b[0;34m\u001b[0m\u001b[0;34m\u001b[0m\u001b[0m\n\u001b[0;32m----> 5\u001b[0;31m     \u001b[0;32mfor\u001b[0m \u001b[0myear\u001b[0m \u001b[0;32min\u001b[0m \u001b[0mdictionary\u001b[0m\u001b[0;34m.\u001b[0m\u001b[0mkeys\u001b[0m\u001b[0;34m(\u001b[0m\u001b[0;34m)\u001b[0m\u001b[0;34m:\u001b[0m\u001b[0;34m\u001b[0m\u001b[0;34m\u001b[0m\u001b[0m\n\u001b[0m\u001b[1;32m      6\u001b[0m         \u001b[0;32mfor\u001b[0m \u001b[0mestimate\u001b[0m \u001b[0;32min\u001b[0m \u001b[0mgetSlopeEstimates\u001b[0m\u001b[0;34m(\u001b[0m\u001b[0mdictionary\u001b[0m\u001b[0;34m[\u001b[0m\u001b[0myear\u001b[0m\u001b[0;34m]\u001b[0m\u001b[0;34m)\u001b[0m\u001b[0;34m:\u001b[0m\u001b[0;34m\u001b[0m\u001b[0;34m\u001b[0m\u001b[0m\n\u001b[1;32m      7\u001b[0m             \u001b[0mtotal\u001b[0m \u001b[0;34m+=\u001b[0m \u001b[0mestimate\u001b[0m\u001b[0;34m\u001b[0m\u001b[0;34m\u001b[0m\u001b[0m\n",
      "\u001b[0;31mAttributeError\u001b[0m: 'list' object has no attribute 'keys'"
     ]
    }
   ],
   "source": [
    "# Comparisons\n",
    "\n",
    "# Compare the average rates of every 8 years\n",
    "# Compare 2002-2010 average change to 2010-2018 average change\n",
    "\n",
    "total = 0\n",
    "count = 0\n",
    "for year in (\"2002\", \"2003\", \"2004\", \"2005\", \"2006\", \"2007\", \"2008\", \"2009\", \"2010\"):\n",
    "    total += round(averageSlope(antarcticaDict[year]), 3)\n",
    "    count += 1\n",
    "\n",
    "firstEightYearsSlope = total / count\n",
    "print(firstEightYearsSlope)"
   ]
  },
  {
   "cell_type": "code",
   "execution_count": null,
   "id": "9d0e1b91",
   "metadata": {},
   "outputs": [],
   "source": []
  }
 ],
 "metadata": {
  "kernelspec": {
   "display_name": "Python 3 (ipykernel)",
   "language": "python",
   "name": "python3"
  },
  "language_info": {
   "codemirror_mode": {
    "name": "ipython",
    "version": 3
   },
   "file_extension": ".py",
   "mimetype": "text/x-python",
   "name": "python",
   "nbconvert_exporter": "python",
   "pygments_lexer": "ipython3",
   "version": "3.9.13"
  }
 },
 "nbformat": 4,
 "nbformat_minor": 5
}
